{
 "cells": [
  {
   "cell_type": "code",
   "execution_count": 82,
   "metadata": {},
   "outputs": [],
   "source": [
    "import matplotlib.pyplot as plt\n",
    "import seaborn as sns\n",
    "import pandas as pd\n",
    "import numpy as np\n",
    "from sklearn import preprocessing \n",
    "%matplotlib inline"
   ]
  },
  {
   "cell_type": "code",
   "execution_count": 83,
   "metadata": {},
   "outputs": [],
   "source": [
    "\n",
    "from sklearn.datasets import load_digits"
   ]
  },
  {
   "cell_type": "code",
   "execution_count": 84,
   "metadata": {},
   "outputs": [],
   "source": [
    "digit = load_digits()\n",
    "x=digit.data\n",
    "y=digit.target"
   ]
  },
  {
   "cell_type": "code",
   "execution_count": 86,
   "metadata": {},
   "outputs": [],
   "source": [
    "x=pd.DataFrame(x)\n",
    "y=pd.DataFrame(y)"
   ]
  },
  {
   "cell_type": "code",
   "execution_count": null,
   "metadata": {},
   "outputs": [],
   "source": []
  },
  {
   "cell_type": "code",
   "execution_count": 88,
   "metadata": {},
   "outputs": [
    {
     "data": {
      "text/html": [
       "<div>\n",
       "<style scoped>\n",
       "    .dataframe tbody tr th:only-of-type {\n",
       "        vertical-align: middle;\n",
       "    }\n",
       "\n",
       "    .dataframe tbody tr th {\n",
       "        vertical-align: top;\n",
       "    }\n",
       "\n",
       "    .dataframe thead th {\n",
       "        text-align: right;\n",
       "    }\n",
       "</style>\n",
       "<table border=\"1\" class=\"dataframe\">\n",
       "  <thead>\n",
       "    <tr style=\"text-align: right;\">\n",
       "      <th></th>\n",
       "      <th>0</th>\n",
       "      <th>1</th>\n",
       "      <th>2</th>\n",
       "      <th>3</th>\n",
       "      <th>4</th>\n",
       "      <th>5</th>\n",
       "      <th>6</th>\n",
       "      <th>7</th>\n",
       "      <th>8</th>\n",
       "      <th>9</th>\n",
       "      <th>...</th>\n",
       "      <th>54</th>\n",
       "      <th>55</th>\n",
       "      <th>56</th>\n",
       "      <th>57</th>\n",
       "      <th>58</th>\n",
       "      <th>59</th>\n",
       "      <th>60</th>\n",
       "      <th>61</th>\n",
       "      <th>62</th>\n",
       "      <th>63</th>\n",
       "    </tr>\n",
       "  </thead>\n",
       "  <tbody>\n",
       "    <tr>\n",
       "      <th>0</th>\n",
       "      <td>0.0</td>\n",
       "      <td>0.0</td>\n",
       "      <td>5.0</td>\n",
       "      <td>13.0</td>\n",
       "      <td>9.0</td>\n",
       "      <td>1.0</td>\n",
       "      <td>0.0</td>\n",
       "      <td>0.0</td>\n",
       "      <td>0.0</td>\n",
       "      <td>0.0</td>\n",
       "      <td>...</td>\n",
       "      <td>0.0</td>\n",
       "      <td>0.0</td>\n",
       "      <td>0.0</td>\n",
       "      <td>0.0</td>\n",
       "      <td>6.0</td>\n",
       "      <td>13.0</td>\n",
       "      <td>10.0</td>\n",
       "      <td>0.0</td>\n",
       "      <td>0.0</td>\n",
       "      <td>0.0</td>\n",
       "    </tr>\n",
       "    <tr>\n",
       "      <th>1</th>\n",
       "      <td>0.0</td>\n",
       "      <td>0.0</td>\n",
       "      <td>0.0</td>\n",
       "      <td>12.0</td>\n",
       "      <td>13.0</td>\n",
       "      <td>5.0</td>\n",
       "      <td>0.0</td>\n",
       "      <td>0.0</td>\n",
       "      <td>0.0</td>\n",
       "      <td>0.0</td>\n",
       "      <td>...</td>\n",
       "      <td>0.0</td>\n",
       "      <td>0.0</td>\n",
       "      <td>0.0</td>\n",
       "      <td>0.0</td>\n",
       "      <td>0.0</td>\n",
       "      <td>11.0</td>\n",
       "      <td>16.0</td>\n",
       "      <td>10.0</td>\n",
       "      <td>0.0</td>\n",
       "      <td>0.0</td>\n",
       "    </tr>\n",
       "    <tr>\n",
       "      <th>2</th>\n",
       "      <td>0.0</td>\n",
       "      <td>0.0</td>\n",
       "      <td>0.0</td>\n",
       "      <td>4.0</td>\n",
       "      <td>15.0</td>\n",
       "      <td>12.0</td>\n",
       "      <td>0.0</td>\n",
       "      <td>0.0</td>\n",
       "      <td>0.0</td>\n",
       "      <td>0.0</td>\n",
       "      <td>...</td>\n",
       "      <td>5.0</td>\n",
       "      <td>0.0</td>\n",
       "      <td>0.0</td>\n",
       "      <td>0.0</td>\n",
       "      <td>0.0</td>\n",
       "      <td>3.0</td>\n",
       "      <td>11.0</td>\n",
       "      <td>16.0</td>\n",
       "      <td>9.0</td>\n",
       "      <td>0.0</td>\n",
       "    </tr>\n",
       "    <tr>\n",
       "      <th>3</th>\n",
       "      <td>0.0</td>\n",
       "      <td>0.0</td>\n",
       "      <td>7.0</td>\n",
       "      <td>15.0</td>\n",
       "      <td>13.0</td>\n",
       "      <td>1.0</td>\n",
       "      <td>0.0</td>\n",
       "      <td>0.0</td>\n",
       "      <td>0.0</td>\n",
       "      <td>8.0</td>\n",
       "      <td>...</td>\n",
       "      <td>9.0</td>\n",
       "      <td>0.0</td>\n",
       "      <td>0.0</td>\n",
       "      <td>0.0</td>\n",
       "      <td>7.0</td>\n",
       "      <td>13.0</td>\n",
       "      <td>13.0</td>\n",
       "      <td>9.0</td>\n",
       "      <td>0.0</td>\n",
       "      <td>0.0</td>\n",
       "    </tr>\n",
       "    <tr>\n",
       "      <th>4</th>\n",
       "      <td>0.0</td>\n",
       "      <td>0.0</td>\n",
       "      <td>0.0</td>\n",
       "      <td>1.0</td>\n",
       "      <td>11.0</td>\n",
       "      <td>0.0</td>\n",
       "      <td>0.0</td>\n",
       "      <td>0.0</td>\n",
       "      <td>0.0</td>\n",
       "      <td>0.0</td>\n",
       "      <td>...</td>\n",
       "      <td>0.0</td>\n",
       "      <td>0.0</td>\n",
       "      <td>0.0</td>\n",
       "      <td>0.0</td>\n",
       "      <td>0.0</td>\n",
       "      <td>2.0</td>\n",
       "      <td>16.0</td>\n",
       "      <td>4.0</td>\n",
       "      <td>0.0</td>\n",
       "      <td>0.0</td>\n",
       "    </tr>\n",
       "  </tbody>\n",
       "</table>\n",
       "<p>5 rows × 64 columns</p>\n",
       "</div>"
      ],
      "text/plain": [
       "    0    1    2     3     4     5    6    7    8    9  ...    54   55   56  \\\n",
       "0  0.0  0.0  5.0  13.0   9.0   1.0  0.0  0.0  0.0  0.0 ...   0.0  0.0  0.0   \n",
       "1  0.0  0.0  0.0  12.0  13.0   5.0  0.0  0.0  0.0  0.0 ...   0.0  0.0  0.0   \n",
       "2  0.0  0.0  0.0   4.0  15.0  12.0  0.0  0.0  0.0  0.0 ...   5.0  0.0  0.0   \n",
       "3  0.0  0.0  7.0  15.0  13.0   1.0  0.0  0.0  0.0  8.0 ...   9.0  0.0  0.0   \n",
       "4  0.0  0.0  0.0   1.0  11.0   0.0  0.0  0.0  0.0  0.0 ...   0.0  0.0  0.0   \n",
       "\n",
       "    57   58    59    60    61   62   63  \n",
       "0  0.0  6.0  13.0  10.0   0.0  0.0  0.0  \n",
       "1  0.0  0.0  11.0  16.0  10.0  0.0  0.0  \n",
       "2  0.0  0.0   3.0  11.0  16.0  9.0  0.0  \n",
       "3  0.0  7.0  13.0  13.0   9.0  0.0  0.0  \n",
       "4  0.0  0.0   2.0  16.0   4.0  0.0  0.0  \n",
       "\n",
       "[5 rows x 64 columns]"
      ]
     },
     "execution_count": 88,
     "metadata": {},
     "output_type": "execute_result"
    }
   ],
   "source": [
    "x.head()"
   ]
  },
  {
   "cell_type": "code",
   "execution_count": 7,
   "metadata": {},
   "outputs": [],
   "source": [
    "from sklearn.model_selection import train_test_split"
   ]
  },
  {
   "cell_type": "code",
   "execution_count": 8,
   "metadata": {},
   "outputs": [],
   "source": [
    "x_train,x_test,y_train,y_test = train_test_split(x,y,test_size = 0.3)"
   ]
  },
  {
   "cell_type": "code",
   "execution_count": 9,
   "metadata": {},
   "outputs": [],
   "source": [
    "from sklearn.linear_model import LogisticRegression"
   ]
  },
  {
   "cell_type": "code",
   "execution_count": 10,
   "metadata": {},
   "outputs": [],
   "source": [
    "reg =  LogisticRegression()"
   ]
  },
  {
   "cell_type": "code",
   "execution_count": 11,
   "metadata": {},
   "outputs": [
    {
     "name": "stderr",
     "output_type": "stream",
     "text": [
      "C:\\Users\\pawan\\Anaconda3\\lib\\site-packages\\sklearn\\utils\\validation.py:578: DataConversionWarning: A column-vector y was passed when a 1d array was expected. Please change the shape of y to (n_samples, ), for example using ravel().\n",
      "  y = column_or_1d(y, warn=True)\n"
     ]
    },
    {
     "data": {
      "text/plain": [
       "LogisticRegression(C=1.0, class_weight=None, dual=False, fit_intercept=True,\n",
       "          intercept_scaling=1, max_iter=100, multi_class='ovr', n_jobs=1,\n",
       "          penalty='l2', random_state=None, solver='liblinear', tol=0.0001,\n",
       "          verbose=0, warm_start=False)"
      ]
     },
     "execution_count": 11,
     "metadata": {},
     "output_type": "execute_result"
    }
   ],
   "source": [
    "reg.fit(x_train,y_train)"
   ]
  },
  {
   "cell_type": "code",
   "execution_count": 13,
   "metadata": {},
   "outputs": [
    {
     "data": {
      "text/plain": [
       "array([[ 0.00000000e+00, -4.58740940e-02, -1.12583334e-01,\n",
       "        -1.95902278e-02, -4.65746037e-02, -3.36858172e-01,\n",
       "        -1.83124688e-01, -9.95468292e-03, -9.53207205e-06,\n",
       "        -1.09285190e-01,  3.23949005e-02,  1.58764021e-01,\n",
       "         1.15786549e-01,  2.68086939e-01, -6.91990086e-02,\n",
       "        -9.57739334e-03,  0.00000000e+00,  1.65684078e-02,\n",
       "         1.42090886e-01,  1.27837579e-02, -3.53468964e-01,\n",
       "         2.54663531e-01, -1.07367790e-01, -1.65921743e-03,\n",
       "        -8.10294715e-07, -3.02201944e-03,  5.15353639e-03,\n",
       "        -1.78565951e-01, -5.60929294e-01,  8.06923048e-02,\n",
       "         4.07113618e-02, -8.81746055e-04,  0.00000000e+00,\n",
       "         1.20396462e-01,  2.61287581e-01, -1.99564325e-01,\n",
       "        -5.97030876e-01, -7.89206243e-02,  1.09557703e-01,\n",
       "         0.00000000e+00, -2.92991264e-03, -7.35480579e-02,\n",
       "         2.17064472e-01, -2.76149749e-01, -2.85848692e-01,\n",
       "        -6.88685251e-02,  1.18378906e-01, -1.76444453e-04,\n",
       "        -7.00733623e-03, -1.23975603e-01,  3.75907890e-02,\n",
       "        -1.11813718e-01,  1.12651602e-01, -5.43919446e-02,\n",
       "        -1.31302174e-01, -6.44332684e-02, -4.30504095e-06,\n",
       "        -6.20445791e-02, -2.25819117e-01,  8.83546839e-02,\n",
       "        -2.28260090e-01, -1.00594268e-01, -1.52527295e-01,\n",
       "        -4.93278327e-02],\n",
       "       [ 0.00000000e+00,  3.71927439e-01,  7.81772737e-02,\n",
       "         1.39533722e-02, -5.25235482e-01,  4.31759985e-01,\n",
       "        -1.76892195e-01, -1.04120354e-01, -1.18185942e-06,\n",
       "        -1.23021485e+00, -3.21283381e-01, -3.73565832e-01,\n",
       "         4.80109326e-02,  2.25202931e-02, -5.52903931e-01,\n",
       "        -9.83197032e-02,  0.00000000e+00,  4.67892169e-01,\n",
       "         5.69600227e-02,  7.47209171e-01,  3.44970811e-01,\n",
       "        -1.72041165e-01,  4.17524366e-01, -1.06432286e-02,\n",
       "        -5.35543662e-01, -3.50975862e-01, -2.66453413e-02,\n",
       "         4.13519987e-02, -1.45763211e-02,  2.85934925e-02,\n",
       "        -4.99315400e-01, -1.45112190e-06,  0.00000000e+00,\n",
       "        -5.04232038e-02,  1.03714406e-01, -1.10911475e-01,\n",
       "         3.18105670e-02,  1.18616907e-01, -3.84032898e-01,\n",
       "         0.00000000e+00, -7.57282145e-06, -6.24873166e-01,\n",
       "        -1.26938267e-01, -7.30941467e-03,  9.75680144e-02,\n",
       "        -3.94283840e-01, -1.30544082e-01, -6.14167157e-02,\n",
       "        -1.27024120e-02, -1.51018153e-01,  1.21822937e-02,\n",
       "         1.29793144e-01, -1.80101525e-02,  1.14970667e-01,\n",
       "        -4.00078691e-01,  3.54785369e-01, -4.23329584e-03,\n",
       "         1.68319275e-02, -2.45402145e-01,  6.96553524e-02,\n",
       "        -1.71976876e-02,  9.97988034e-02, -4.61597123e-02,\n",
       "         5.61202870e-03],\n",
       "       [ 0.00000000e+00,  4.77902021e-02, -3.43580215e-02,\n",
       "        -6.90723604e-03, -3.30750434e-03, -2.14948069e-01,\n",
       "        -1.42136994e-01, -1.59223578e-02,  4.96669884e-05,\n",
       "         7.52402505e-02,  1.49482824e-01, -1.32525458e-01,\n",
       "         2.17475905e-01, -2.94934984e-02, -6.30444991e-02,\n",
       "        -3.46691591e-03,  0.00000000e+00, -1.17383613e-01,\n",
       "         4.92862249e-02, -2.13016067e-01,  2.12569862e-01,\n",
       "         5.39885555e-02,  1.04500092e-01, -7.77876499e-05,\n",
       "        -1.69942033e-06, -2.26055325e-01, -4.78191372e-01,\n",
       "        -4.95254763e-01, -3.58235214e-01,  1.37741760e-01,\n",
       "        -1.94394514e-01, -4.78260571e-06,  0.00000000e+00,\n",
       "        -2.90152142e-01, -5.33293183e-01, -1.57493110e-01,\n",
       "        -1.20820603e-01, -3.49712397e-01, -4.66832197e-01,\n",
       "         0.00000000e+00, -3.17325950e-05,  9.56550935e-02,\n",
       "         1.17886936e-01,  3.83946103e-01, -4.20112654e-01,\n",
       "        -4.85756815e-01, -3.42167305e-01,  1.68763773e-02,\n",
       "         1.41915323e-03,  2.08622062e-01,  1.49871729e-02,\n",
       "         3.41404519e-01,  2.47859757e-01,  2.93530440e-01,\n",
       "         1.60282316e-01, -1.19633062e-02,  4.80099796e-04,\n",
       "         1.16215485e-01,  6.44466876e-02, -1.86173885e-02,\n",
       "        -8.62438674e-02,  2.29314885e-01,  3.13052928e-01,\n",
       "         7.43102334e-02],\n",
       "       [ 0.00000000e+00, -1.13051777e-03, -7.46771886e-01,\n",
       "        -2.27167024e-03,  1.92524757e-01,  6.24294585e-02,\n",
       "        -1.27757846e-01,  4.42279197e-02, -3.27620231e-03,\n",
       "        -7.78307711e-01,  6.47983531e-01, -3.03207357e-01,\n",
       "         1.41389915e-01,  2.63814288e-01,  8.34791330e-01,\n",
       "         1.73537889e-03,  0.00000000e+00,  3.48431872e-01,\n",
       "        -9.99532129e-01, -5.23051869e-01, -3.17743473e-02,\n",
       "        -7.12592850e-02, -5.29705533e-01, -5.57831830e-05,\n",
       "        -1.34760602e-07, -4.17110721e-01, -7.15449520e-01,\n",
       "         4.49040651e-02,  4.45714412e-02, -5.62441321e-01,\n",
       "        -9.34648957e-01, -7.76023025e-07,  0.00000000e+00,\n",
       "        -2.72364210e-01, -5.00732265e-01, -5.02988834e-02,\n",
       "        -1.54793644e-01, -5.34361689e-02, -8.54502585e-02,\n",
       "         0.00000000e+00, -2.60908044e-06, -1.62056795e-01,\n",
       "        -9.65787820e-02, -1.14314229e+00,  4.59438783e-01,\n",
       "         5.97223740e-01,  3.78463116e-01, -3.88463559e-02,\n",
       "        -3.39569282e-06, -4.53977237e-01,  1.50969428e-02,\n",
       "        -5.90679533e-03,  2.38940485e-02,  3.26946876e-02,\n",
       "         3.67712952e-01, -4.84356503e-01, -4.61806627e-07,\n",
       "        -4.52073960e-02,  5.71854841e-01, -3.17276699e-01,\n",
       "         7.30142901e-01, -2.33288086e-01, -1.13246438e-01,\n",
       "        -6.99504648e-01],\n",
       "       [ 0.00000000e+00, -1.47011154e-02, -2.58264353e-01,\n",
       "        -6.10491699e-01, -2.69203668e-01, -4.27325877e-01,\n",
       "        -3.41346620e-01, -2.73185297e-03, -2.37673344e-05,\n",
       "        -1.40823784e-01,  3.43832256e-02, -4.26031516e-01,\n",
       "        -3.97172145e-01, -1.86858507e-01, -2.54587536e-01,\n",
       "         7.01516078e-02,  0.00000000e+00,  7.52013219e-02,\n",
       "         3.50838462e-01,  1.71017412e-01, -7.02728521e-02,\n",
       "         1.25182404e-01,  4.48933270e-02,  4.44008620e-02,\n",
       "         4.52304187e-02,  1.50116015e-01,  2.67665736e-01,\n",
       "         1.32115214e-01,  2.08394856e-02, -2.20227607e-02,\n",
       "         4.47655019e-01,  1.09351509e-03,  0.00000000e+00,\n",
       "         4.32079136e-02,  1.38440271e-01, -4.32699659e-02,\n",
       "         2.40831056e-01,  1.87986459e-01,  3.02380770e-01,\n",
       "         0.00000000e+00,  6.01456511e-04,  5.58387612e-01,\n",
       "        -7.53209516e-02,  3.94633451e-01,  1.06858887e-01,\n",
       "         1.20672605e-01, -4.32424847e-02, -4.50624959e-04,\n",
       "         1.13436083e-03,  3.41378790e-01, -2.47379247e-01,\n",
       "         7.58744982e-02,  6.64152072e-02, -3.63759847e-01,\n",
       "        -4.05406067e-01, -1.68422473e-03, -7.88881736e-06,\n",
       "        -9.18827602e-02, -1.63896334e-01, -2.22538615e-01,\n",
       "        -1.57860748e-01, -3.40054890e-01, -7.00188961e-02,\n",
       "        -2.11185685e-03],\n",
       "       [ 0.00000000e+00, -9.16982593e-02,  5.67787150e-01,\n",
       "        -2.40055566e-01, -1.00997173e-01,  3.91641289e-01,\n",
       "         5.65628560e-01, -1.53205347e-01,  1.50307040e-02,\n",
       "        -1.54548376e-01,  2.18758267e-01,  2.00257164e-01,\n",
       "        -4.23528118e-02,  7.63997881e-02, -2.90166679e-01,\n",
       "        -9.11432647e-02,  0.00000000e+00, -2.80193314e-01,\n",
       "         2.36363054e-01,  4.17002740e-02, -3.96506066e-01,\n",
       "        -9.40924310e-01, -1.07958210e+00, -9.38869297e-03,\n",
       "        -9.25241991e-04,  1.41973620e-01,  3.59039713e-01,\n",
       "         1.08237673e-02,  2.29647230e-01,  8.16076848e-03,\n",
       "        -1.01817427e+00, -3.71754794e-05,  0.00000000e+00,\n",
       "        -4.31722603e-01, -5.01307967e-03, -2.02589991e-01,\n",
       "        -3.95170523e-01, -2.93272127e-01,  2.07538445e-01,\n",
       "         0.00000000e+00, -9.04184405e-05, -1.01441184e-01,\n",
       "        -2.39502656e-01, -2.23076411e-01, -1.73990913e-01,\n",
       "         2.03456315e-01,  9.16739171e-02, -2.94237683e-03,\n",
       "        -2.02558659e-05,  8.59644634e-02, -4.07595758e-01,\n",
       "        -8.18888804e-02,  1.26295138e-01, -2.89411488e-02,\n",
       "        -3.67314044e-01, -1.11033674e-02, -1.30438439e-06,\n",
       "        -3.65162492e-02,  1.41012962e-02,  2.37646918e-01,\n",
       "        -1.30922455e-01, -4.58938538e-02, -6.21041264e-01,\n",
       "        -1.29926879e-01],\n",
       "       [ 0.00000000e+00, -3.17617351e-02, -3.06657678e-01,\n",
       "        -2.67694485e-01, -7.21845193e-02, -1.27392204e-01,\n",
       "        -8.63752052e-02, -2.70467968e-04, -1.87529235e-05,\n",
       "        -2.30856215e-01, -2.18110421e-01, -3.18875329e-01,\n",
       "        -2.56373315e-01,  2.48262745e-02,  1.49700719e-01,\n",
       "        -4.66645052e-04,  0.00000000e+00, -8.86443280e-02,\n",
       "         3.48974651e-01,  2.00852211e-02, -4.40540320e-01,\n",
       "        -8.10051404e-01, -2.51182101e-01, -6.33130507e-04,\n",
       "        -1.68718021e-05, -3.58594419e-02, -1.68725968e-02,\n",
       "         1.47518907e-01, -5.85225584e-02, -4.88071560e-02,\n",
       "        -5.01777281e-01, -4.13367098e-05,  0.00000000e+00,\n",
       "         3.81885139e-01,  1.05460735e-01,  1.94090560e-03,\n",
       "         1.82796481e-02, -6.87196023e-02, -1.14216102e-01,\n",
       "         0.00000000e+00, -2.20774400e-03, -8.31665921e-01,\n",
       "         4.64649514e-01,  5.55651824e-02, -4.23616232e-03,\n",
       "        -2.04700750e-01,  2.81275687e-01,  6.70204321e-02,\n",
       "        -6.31156212e-04, -2.92195022e-01,  1.83467130e-01,\n",
       "         4.14937353e-01, -2.20562940e-01,  4.11773750e-01,\n",
       "         1.83639480e-01, -2.90304899e-01, -1.84803937e-06,\n",
       "        -1.92252481e-02, -2.41468447e-01, -2.62682709e-01,\n",
       "         1.72819476e-02, -1.17744971e-02, -1.82180698e-01,\n",
       "        -1.43062798e-01],\n",
       "       [ 0.00000000e+00, -2.12418655e-01,  2.85328088e-01,\n",
       "        -1.02098780e-02, -2.28912715e-01,  3.92642260e-01,\n",
       "         2.33179141e-01,  2.15811091e-01, -7.40683243e-06,\n",
       "        -1.66394102e-01,  1.54165225e-01, -6.29551902e-02,\n",
       "         7.70031018e-01,  4.86748229e-03, -6.30547240e-02,\n",
       "         2.20133248e-01,  0.00000000e+00, -2.17672145e-01,\n",
       "        -3.78485372e-01, -4.27114207e-01, -2.64053607e-01,\n",
       "         1.03272697e-01,  6.16892075e-02,  1.62666513e-02,\n",
       "        -3.18266377e-06, -4.20443577e-01, -4.82434509e-02,\n",
       "        -3.03577645e-01, -5.63264492e-02,  2.30433360e-01,\n",
       "         5.88907192e-02, -2.64517464e-03,  0.00000000e+00,\n",
       "         3.20496022e-01, -2.33859652e-01,  1.19991289e-01,\n",
       "         1.34298626e-01,  2.66450624e-01,  1.58404934e-01,\n",
       "         0.00000000e+00, -2.01532576e-04, -3.91975925e-01,\n",
       "         1.71845404e-01, -1.46485545e-02,  1.09207572e-01,\n",
       "         3.79801072e-01, -5.75123329e-02, -4.14790071e-05,\n",
       "        -5.76204715e-05, -1.22497478e-01,  8.47563382e-02,\n",
       "         2.15523195e-01, -6.09732514e-01, -9.84154129e-01,\n",
       "        -2.13575730e-01, -4.87427769e-04, -6.97697124e-06,\n",
       "        -3.36415892e-01, -2.17218144e-01, -4.16135162e-01,\n",
       "        -2.15554668e-01, -6.85582810e-01, -2.05242227e-01,\n",
       "        -1.03192298e-02],\n",
       "       [ 0.00000000e+00, -9.65227381e-02,  1.41014287e-01,\n",
       "        -2.91809254e-01, -2.77690624e-02,  3.74412377e-02,\n",
       "        -8.96531810e-01, -4.78470744e-02,  1.65449926e-02,\n",
       "         1.43736527e-02,  2.25791378e-01, -2.04017803e-02,\n",
       "        -1.36841792e-01,  5.79617796e-02,  2.52256751e-01,\n",
       "        -4.33140101e-01,  0.00000000e+00,  5.79214464e-02,\n",
       "         2.31456768e-01,  1.25032313e-01, -3.76777824e-02,\n",
       "         1.21728630e-01,  1.91560840e-01, -5.99366194e-01,\n",
       "        -1.51256893e-03, -1.20869123e-01, -7.83599544e-02,\n",
       "         1.07436302e-01,  2.41187636e-03, -3.73553209e-02,\n",
       "         6.62388348e-02, -3.16100010e-03,  0.00000000e+00,\n",
       "        -4.19054768e-01, -1.71769685e-01,  3.94307267e-01,\n",
       "        -1.15882480e-01,  6.69470723e-03, -1.36258377e+00,\n",
       "         0.00000000e+00, -6.76875371e-04,  1.67684009e-01,\n",
       "         1.38266449e-01, -1.45028952e-03,  4.25358815e-02,\n",
       "         1.06554583e-01,  4.96918054e-02, -1.50657849e-01,\n",
       "        -2.52823103e-02, -1.65895628e-01,  2.12014177e-01,\n",
       "        -1.93180451e-01, -2.27917592e-01,  5.05887012e-02,\n",
       "         5.84640891e-02, -1.20381310e-01, -8.41634936e-03,\n",
       "         1.58811197e-01, -5.29444089e-01, -6.62175021e-02,\n",
       "         3.51729337e-02, -2.24839489e-01, -2.51770057e-01,\n",
       "         7.90309121e-02],\n",
       "       [ 0.00000000e+00, -6.46328083e-01, -3.68231152e-01,\n",
       "         6.51067276e-01, -1.06145667e-01, -4.53621296e-01,\n",
       "         1.00777446e-01,  3.06225843e-02, -1.07044195e-05,\n",
       "         3.92776201e-01,  2.32293296e-01,  1.35481458e-01,\n",
       "        -1.25428977e-01, -1.17086824e-01,  3.05665119e-01,\n",
       "        -5.21548036e-01,  0.00000000e+00,  4.21237895e-01,\n",
       "         3.09987426e-01,  7.87226761e-02,  1.14679295e-01,\n",
       "         7.18660620e-01,  1.65455124e-02, -9.67901297e-01,\n",
       "        -1.28822694e-07, -5.51946709e-01,  2.84617781e-01,\n",
       "         4.10620252e-01, -2.40923043e-01,  6.17163210e-01,\n",
       "        -1.14634574e-01, -5.23302822e-02,  0.00000000e+00,\n",
       "        -6.98183168e-01, -2.70249439e-01,  8.11092500e-01,\n",
       "        -5.20445151e-01, -3.74480945e-01,  7.50862884e-02,\n",
       "         0.00000000e+00, -1.69839336e-06,  2.40295186e-01,\n",
       "        -8.86275476e-01, -1.56500796e+00, -7.26786573e-01,\n",
       "        -3.54706529e-01, -2.71383908e-01,  2.76278813e-05,\n",
       "        -1.96528008e-06,  2.63344278e-01, -3.97034206e-01,\n",
       "         4.92299691e-02, -2.65066915e-01, -3.35115645e-01,\n",
       "        -4.07731045e-01,  1.97305258e-01, -1.95909246e-07,\n",
       "        -4.10923286e-01, -4.74276452e-02, -5.37813168e-01,\n",
       "         2.86781169e-01, -1.19467674e-01,  3.03725598e-01,\n",
       "        -2.71007388e-01]])"
      ]
     },
     "execution_count": 13,
     "metadata": {},
     "output_type": "execute_result"
    }
   ],
   "source": [
    "reg.coef_"
   ]
  },
  {
   "cell_type": "code",
   "execution_count": 14,
   "metadata": {},
   "outputs": [
    {
     "data": {
      "text/plain": [
       "array([-0.02086605, -2.22189539, -0.03796558, -0.17112187,  0.01263391,\n",
       "       -0.08008812, -0.03477325, -0.0146118 , -2.14532697, -0.49808528])"
      ]
     },
     "execution_count": 14,
     "metadata": {},
     "output_type": "execute_result"
    }
   ],
   "source": [
    "reg.intercept_"
   ]
  },
  {
   "cell_type": "code",
   "execution_count": 15,
   "metadata": {},
   "outputs": [],
   "source": [
    "pre = reg.predict(x_test)"
   ]
  },
  {
   "cell_type": "markdown",
   "metadata": {},
   "source": [
    "## linear regression"
   ]
  },
  {
   "cell_type": "code",
   "execution_count": 16,
   "metadata": {},
   "outputs": [],
   "source": [
    "from sklearn.linear_model import LinearRegression"
   ]
  },
  {
   "cell_type": "code",
   "execution_count": 17,
   "metadata": {},
   "outputs": [],
   "source": [
    "a=LinearRegression()"
   ]
  },
  {
   "cell_type": "code",
   "execution_count": 18,
   "metadata": {},
   "outputs": [
    {
     "data": {
      "text/plain": [
       "LinearRegression(copy_X=True, fit_intercept=True, n_jobs=1, normalize=False)"
      ]
     },
     "execution_count": 18,
     "metadata": {},
     "output_type": "execute_result"
    }
   ],
   "source": [
    "a.fit(x_train,y_train)"
   ]
  },
  {
   "cell_type": "code",
   "execution_count": 19,
   "metadata": {},
   "outputs": [],
   "source": [
    "pre2= a.predict(x_test)"
   ]
  },
  {
   "cell_type": "markdown",
   "metadata": {},
   "source": [
    "## a.classification score"
   ]
  },
  {
   "cell_type": "code",
   "execution_count": 20,
   "metadata": {},
   "outputs": [
    {
     "data": {
      "text/plain": [
       "0.9574074074074074"
      ]
     },
     "execution_count": 20,
     "metadata": {},
     "output_type": "execute_result"
    }
   ],
   "source": [
    "reg.score(x_test,y_test)"
   ]
  },
  {
   "cell_type": "markdown",
   "metadata": {},
   "source": [
    "## b.Logarthmic loss"
   ]
  },
  {
   "cell_type": "code",
   "execution_count": 21,
   "metadata": {},
   "outputs": [],
   "source": [
    "from sklearn.model_selection import KFold"
   ]
  },
  {
   "cell_type": "code",
   "execution_count": 22,
   "metadata": {},
   "outputs": [],
   "source": [
    "from sklearn import model_selection"
   ]
  },
  {
   "cell_type": "code",
   "execution_count": 24,
   "metadata": {},
   "outputs": [
    {
     "name": "stderr",
     "output_type": "stream",
     "text": [
      "C:\\Users\\pawan\\Anaconda3\\lib\\site-packages\\sklearn\\utils\\validation.py:578: DataConversionWarning: A column-vector y was passed when a 1d array was expected. Please change the shape of y to (n_samples, ), for example using ravel().\n",
      "  y = column_or_1d(y, warn=True)\n",
      "C:\\Users\\pawan\\Anaconda3\\lib\\site-packages\\sklearn\\utils\\validation.py:578: DataConversionWarning: A column-vector y was passed when a 1d array was expected. Please change the shape of y to (n_samples, ), for example using ravel().\n",
      "  y = column_or_1d(y, warn=True)\n",
      "C:\\Users\\pawan\\Anaconda3\\lib\\site-packages\\sklearn\\utils\\validation.py:578: DataConversionWarning: A column-vector y was passed when a 1d array was expected. Please change the shape of y to (n_samples, ), for example using ravel().\n",
      "  y = column_or_1d(y, warn=True)\n",
      "C:\\Users\\pawan\\Anaconda3\\lib\\site-packages\\sklearn\\utils\\validation.py:578: DataConversionWarning: A column-vector y was passed when a 1d array was expected. Please change the shape of y to (n_samples, ), for example using ravel().\n",
      "  y = column_or_1d(y, warn=True)\n",
      "C:\\Users\\pawan\\Anaconda3\\lib\\site-packages\\sklearn\\utils\\validation.py:578: DataConversionWarning: A column-vector y was passed when a 1d array was expected. Please change the shape of y to (n_samples, ), for example using ravel().\n",
      "  y = column_or_1d(y, warn=True)\n",
      "C:\\Users\\pawan\\Anaconda3\\lib\\site-packages\\sklearn\\utils\\validation.py:578: DataConversionWarning: A column-vector y was passed when a 1d array was expected. Please change the shape of y to (n_samples, ), for example using ravel().\n",
      "  y = column_or_1d(y, warn=True)\n",
      "C:\\Users\\pawan\\Anaconda3\\lib\\site-packages\\sklearn\\utils\\validation.py:578: DataConversionWarning: A column-vector y was passed when a 1d array was expected. Please change the shape of y to (n_samples, ), for example using ravel().\n",
      "  y = column_or_1d(y, warn=True)\n",
      "C:\\Users\\pawan\\Anaconda3\\lib\\site-packages\\sklearn\\utils\\validation.py:578: DataConversionWarning: A column-vector y was passed when a 1d array was expected. Please change the shape of y to (n_samples, ), for example using ravel().\n",
      "  y = column_or_1d(y, warn=True)\n",
      "C:\\Users\\pawan\\Anaconda3\\lib\\site-packages\\sklearn\\utils\\validation.py:578: DataConversionWarning: A column-vector y was passed when a 1d array was expected. Please change the shape of y to (n_samples, ), for example using ravel().\n",
      "  y = column_or_1d(y, warn=True)\n",
      "C:\\Users\\pawan\\Anaconda3\\lib\\site-packages\\sklearn\\utils\\validation.py:578: DataConversionWarning: A column-vector y was passed when a 1d array was expected. Please change the shape of y to (n_samples, ), for example using ravel().\n",
      "  y = column_or_1d(y, warn=True)\n"
     ]
    }
   ],
   "source": [
    "kfold =model_selection.KFold(n_splits= 10,random_state=7)\n",
    "result = model_selection.cross_val_score(reg,x,y,cv= kfold,scoring = \"neg_log_loss\")\n"
   ]
  },
  {
   "cell_type": "code",
   "execution_count": 25,
   "metadata": {},
   "outputs": [
    {
     "data": {
      "text/plain": [
       "array([-0.45798961, -0.14435058, -0.61749705, -0.27323142, -0.27594697,\n",
       "       -0.12815811, -0.11024468, -0.1233365 , -0.62592303, -0.68553964])"
      ]
     },
     "execution_count": 25,
     "metadata": {},
     "output_type": "execute_result"
    }
   ],
   "source": [
    "result"
   ]
  },
  {
   "cell_type": "markdown",
   "metadata": {},
   "source": [
    "## c.r2 metrics"
   ]
  },
  {
   "cell_type": "code",
   "execution_count": 27,
   "metadata": {},
   "outputs": [],
   "source": [
    "result2 = model_selection.cross_val_score(a,x,y,cv= kfold,scoring = \"r2\")"
   ]
  },
  {
   "cell_type": "code",
   "execution_count": 28,
   "metadata": {},
   "outputs": [
    {
     "data": {
      "text/plain": [
       "array([0.40105499, 0.63102463, 0.57072313, 0.59629035, 0.54519634,\n",
       "       0.67174215, 0.61763556, 0.47611004, 0.4236549 , 0.41044286])"
      ]
     },
     "execution_count": 28,
     "metadata": {},
     "output_type": "execute_result"
    }
   ],
   "source": [
    "result2"
   ]
  },
  {
   "cell_type": "markdown",
   "metadata": {},
   "source": [
    "## d. mean absolute error"
   ]
  },
  {
   "cell_type": "code",
   "execution_count": 29,
   "metadata": {},
   "outputs": [],
   "source": [
    "from sklearn.metrics import mean_absolute_error"
   ]
  },
  {
   "cell_type": "code",
   "execution_count": 53,
   "metadata": {},
   "outputs": [
    {
     "data": {
      "text/plain": [
       "1.4688728777834479"
      ]
     },
     "execution_count": 53,
     "metadata": {},
     "output_type": "execute_result"
    }
   ],
   "source": [
    "mean_absolute_error(y_test,pre2)"
   ]
  },
  {
   "cell_type": "markdown",
   "metadata": {},
   "source": [
    "## e.mean squared error"
   ]
  },
  {
   "cell_type": "code",
   "execution_count": 32,
   "metadata": {},
   "outputs": [],
   "source": [
    "from sklearn.metrics import mean_squared_error"
   ]
  },
  {
   "cell_type": "code",
   "execution_count": 36,
   "metadata": {},
   "outputs": [
    {
     "data": {
      "text/plain": [
       "3.491272304306336"
      ]
     },
     "execution_count": 36,
     "metadata": {},
     "output_type": "execute_result"
    }
   ],
   "source": [
    "mean_squared_error(y_test,pre2)"
   ]
  },
  {
   "cell_type": "markdown",
   "metadata": {},
   "source": [
    "## f.confusion matrics"
   ]
  },
  {
   "cell_type": "code",
   "execution_count": 40,
   "metadata": {},
   "outputs": [],
   "source": [
    "from sklearn.metrics import confusion_matrix"
   ]
  },
  {
   "cell_type": "code",
   "execution_count": 55,
   "metadata": {},
   "outputs": [
    {
     "name": "stdout",
     "output_type": "stream",
     "text": [
      "[[51  0  0  0  0  0  0  0  0  0]\n",
      " [ 0 43  0  0  0  0  0  0  1  1]\n",
      " [ 0  0 50  1  0  0  0  0  0  1]\n",
      " [ 0  0  0 65  0  4  0  0  1  0]\n",
      " [ 0  0  0  0 48  0  0  0  0  0]\n",
      " [ 0  0  0  0  0 39  0  0  0  0]\n",
      " [ 0  1  0  0  0  1 72  0  0  0]\n",
      " [ 0  0  0  0  0  0  0 51  1  0]\n",
      " [ 0  2  0  1  0  1  0  0 50  0]\n",
      " [ 0  0  0  1  0  0  0  2  4 48]]\n"
     ]
    }
   ],
   "source": [
    "print(confusion_matrix(y_test,pre))"
   ]
  },
  {
   "cell_type": "markdown",
   "metadata": {},
   "source": [
    "## g.classification report"
   ]
  },
  {
   "cell_type": "code",
   "execution_count": 46,
   "metadata": {},
   "outputs": [],
   "source": [
    "from sklearn.metrics import classification_report"
   ]
  },
  {
   "cell_type": "code",
   "execution_count": 51,
   "metadata": {},
   "outputs": [
    {
     "name": "stdout",
     "output_type": "stream",
     "text": [
      "             precision    recall  f1-score   support\n",
      "\n",
      "          0       1.00      1.00      1.00        51\n",
      "          1       0.93      0.96      0.95        45\n",
      "          2       1.00      0.96      0.98        52\n",
      "          3       0.96      0.93      0.94        70\n",
      "          4       1.00      1.00      1.00        48\n",
      "          5       0.87      1.00      0.93        39\n",
      "          6       1.00      0.97      0.99        74\n",
      "          7       0.96      0.98      0.97        52\n",
      "          8       0.88      0.93      0.90        54\n",
      "          9       0.96      0.87      0.91        55\n",
      "\n",
      "avg / total       0.96      0.96      0.96       540\n",
      "\n"
     ]
    }
   ],
   "source": [
    "print(classification_report(y_test,pre))"
   ]
  },
  {
   "cell_type": "code",
   "execution_count": null,
   "metadata": {},
   "outputs": [],
   "source": []
  }
 ],
 "metadata": {
  "kernelspec": {
   "display_name": "Python 3",
   "language": "python",
   "name": "python3"
  },
  "language_info": {
   "codemirror_mode": {
    "name": "ipython",
    "version": 3
   },
   "file_extension": ".py",
   "mimetype": "text/x-python",
   "name": "python",
   "nbconvert_exporter": "python",
   "pygments_lexer": "ipython3",
   "version": "3.6.5"
  }
 },
 "nbformat": 4,
 "nbformat_minor": 2
}
