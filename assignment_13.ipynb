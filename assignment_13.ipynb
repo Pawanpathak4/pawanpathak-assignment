{
 "cells": [
  {
   "cell_type": "code",
   "execution_count": 49,
   "metadata": {},
   "outputs": [],
   "source": [
    "import pandas as pd\n",
    "from sklearn.svm import SVC\n",
    "from sklearn.datasets import load_digits \n",
    "from sklearn import datasets\n",
    "from sklearn.metrics import accuracy_score"
   ]
  },
  {
   "cell_type": "code",
   "execution_count": 51,
   "metadata": {},
   "outputs": [],
   "source": [
    "a=load_digits()\n",
    "x=a.data\n",
    "y=a.target"
   ]
  },
  {
   "cell_type": "code",
   "execution_count": 52,
   "metadata": {},
   "outputs": [],
   "source": [
    "from sklearn.model_selection import train_test_split"
   ]
  },
  {
   "cell_type": "code",
   "execution_count": 53,
   "metadata": {},
   "outputs": [],
   "source": [
    "X_train,X_test,Y_train,Y_test = train_test_split(x,y,test_size = 0.3)"
   ]
  },
  {
   "cell_type": "code",
   "execution_count": 54,
   "metadata": {},
   "outputs": [],
   "source": [
    "b=SVC(kernel='linear')"
   ]
  },
  {
   "cell_type": "code",
   "execution_count": 56,
   "metadata": {},
   "outputs": [
    {
     "data": {
      "text/plain": [
       "SVC(C=1.0, cache_size=200, class_weight=None, coef0=0.0,\n",
       "  decision_function_shape='ovr', degree=3, gamma='auto', kernel='linear',\n",
       "  max_iter=-1, probability=False, random_state=None, shrinking=True,\n",
       "  tol=0.001, verbose=False)"
      ]
     },
     "execution_count": 56,
     "metadata": {},
     "output_type": "execute_result"
    }
   ],
   "source": [
    "b.fit(X_train,Y_train)"
   ]
  },
  {
   "cell_type": "code",
   "execution_count": 58,
   "metadata": {},
   "outputs": [
    {
     "data": {
      "text/plain": [
       "array([2, 9, 2, 8, 0, 7, 0, 6, 2, 3, 9, 6, 2, 3, 5, 9, 1, 0, 3, 2, 4, 2,\n",
       "       8, 6, 1, 6, 6, 9, 3, 2, 6, 6, 3, 2, 7, 9, 0, 6, 0, 4, 5, 0, 2, 0,\n",
       "       7, 9, 7, 3, 0, 3, 6, 4, 0, 1, 3, 7, 0, 8, 4, 1, 3, 3, 1, 3, 6, 8,\n",
       "       5, 8, 0, 5, 3, 7, 2, 7, 0, 1, 5, 9, 4, 2, 6, 2, 0, 4, 1, 4, 0, 6,\n",
       "       3, 2, 4, 3, 6, 4, 4, 4, 6, 3, 9, 5, 5, 8, 5, 3, 4, 9, 1, 2, 9, 0,\n",
       "       9, 5, 8, 4, 9, 0, 5, 7, 5, 5, 6, 1, 7, 1, 2, 4, 6, 8, 1, 5, 3, 0,\n",
       "       3, 0, 5, 5, 5, 8, 6, 6, 7, 8, 7, 3, 2, 4, 0, 2, 2, 0, 2, 4, 7, 0,\n",
       "       3, 9, 6, 9, 8, 1, 8, 9, 7, 5, 3, 2, 6, 7, 6, 1, 4, 0, 6, 7, 8, 2,\n",
       "       6, 1, 0, 7, 6, 0, 8, 7, 4, 2, 5, 9, 5, 9, 4, 8, 6, 9, 0, 6, 1, 9,\n",
       "       1, 8, 7, 3, 4, 0, 9, 5, 4, 7, 3, 1, 5, 4, 7, 3, 0, 6, 9, 4, 1, 0,\n",
       "       1, 0, 8, 4, 1, 4, 2, 7, 7, 8, 5, 3, 4, 5, 5, 6, 7, 4, 9, 5, 3, 7,\n",
       "       4, 7, 1, 0, 8, 3, 2, 3, 8, 3, 3, 3, 1, 9, 2, 3, 7, 9, 4, 5, 1, 2,\n",
       "       8, 1, 8, 5, 9, 0, 7, 0, 5, 4, 6, 2, 9, 1, 2, 3, 2, 2, 3, 1, 4, 7,\n",
       "       6, 8, 7, 6, 6, 5, 1, 1, 7, 6, 3, 9, 7, 8, 3, 1, 0, 3, 7, 0, 3, 0,\n",
       "       6, 1, 2, 2, 1, 5, 1, 7, 0, 8, 1, 8, 7, 1, 3, 1, 7, 3, 9, 9, 6, 2,\n",
       "       4, 7, 1, 1, 0, 7, 4, 8, 9, 6, 6, 5, 3, 3, 2, 2, 3, 4, 0, 1, 1, 6,\n",
       "       4, 8, 6, 6, 7, 1, 4, 4, 5, 0, 7, 5, 6, 5, 2, 3, 7, 8, 3, 0, 2, 5,\n",
       "       8, 0, 6, 7, 6, 4, 6, 9, 7, 1, 7, 9, 1, 0, 5, 6, 8, 8, 1, 5, 9, 8,\n",
       "       8, 0, 5, 2, 5, 0, 2, 1, 2, 7, 4, 3, 8, 2, 5, 0, 4, 9, 7, 0, 6, 8,\n",
       "       3, 6, 9, 0, 4, 0, 9, 4, 0, 6, 5, 3, 1, 0, 4, 4, 6, 7, 4, 9, 8, 4,\n",
       "       6, 4, 9, 9, 1, 7, 8, 5, 9, 4, 9, 6, 9, 0, 7, 3, 8, 9, 3, 5, 6, 6,\n",
       "       4, 2, 7, 1, 1, 9, 4, 8, 5, 4, 7, 8, 3, 0, 9, 1, 6, 1, 4, 4, 6, 4,\n",
       "       4, 7, 1, 6, 8, 6, 7, 0, 0, 0, 3, 6, 4, 5, 8, 3, 6, 2, 5, 2, 4, 8,\n",
       "       0, 4, 7, 4, 3, 5, 4, 0, 4, 4, 6, 8, 8, 7, 7, 3, 1, 0, 9, 8, 5, 4,\n",
       "       5, 2, 1, 6, 6, 1, 2, 2, 5, 3, 3, 2])"
      ]
     },
     "execution_count": 58,
     "metadata": {},
     "output_type": "execute_result"
    }
   ],
   "source": [
    "pred=b.predict(X_test)\n",
    "pred"
   ]
  },
  {
   "cell_type": "code",
   "execution_count": 60,
   "metadata": {},
   "outputs": [
    {
     "name": "stdout",
     "output_type": "stream",
     "text": [
      "0.9740740740740741\n"
     ]
    }
   ],
   "source": [
    "print(accuracy_score(Y_test,pred))"
   ]
  },
  {
   "cell_type": "code",
   "execution_count": 63,
   "metadata": {},
   "outputs": [],
   "source": [
    "from sklearn.metrics import confusion_matrix"
   ]
  },
  {
   "cell_type": "code",
   "execution_count": 64,
   "metadata": {},
   "outputs": [
    {
     "name": "stdout",
     "output_type": "stream",
     "text": [
      "[[58  0  0  0  0  0  0  0  0  0]\n",
      " [ 0 51  0  0  0  0  0  0  0  0]\n",
      " [ 0  0 48  0  0  0  0  0  0  0]\n",
      " [ 0  0  0 57  0  0  0  0  2  0]\n",
      " [ 0  0  0  0 63  0  0  1  0  0]\n",
      " [ 0  0  0  0  0 47  0  0  0  2]\n",
      " [ 0  1  0  0  0  1 62  0  0  0]\n",
      " [ 0  0  0  0  0  0  0 53  0  0]\n",
      " [ 0  2  0  0  0  0  0  0 44  1]\n",
      " [ 0  0  0  0  0  2  0  1  1 43]]\n"
     ]
    }
   ],
   "source": [
    "print(confusion_matrix(Y_test,pred))"
   ]
  },
  {
   "cell_type": "code",
   "execution_count": 65,
   "metadata": {},
   "outputs": [],
   "source": [
    "from sklearn.metrics import classification_report"
   ]
  },
  {
   "cell_type": "code",
   "execution_count": 66,
   "metadata": {},
   "outputs": [
    {
     "name": "stdout",
     "output_type": "stream",
     "text": [
      "             precision    recall  f1-score   support\n",
      "\n",
      "          0       1.00      1.00      1.00        58\n",
      "          1       0.94      1.00      0.97        51\n",
      "          2       1.00      1.00      1.00        48\n",
      "          3       1.00      0.97      0.98        59\n",
      "          4       1.00      0.98      0.99        64\n",
      "          5       0.94      0.96      0.95        49\n",
      "          6       1.00      0.97      0.98        64\n",
      "          7       0.96      1.00      0.98        53\n",
      "          8       0.94      0.94      0.94        47\n",
      "          9       0.93      0.91      0.92        47\n",
      "\n",
      "avg / total       0.97      0.97      0.97       540\n",
      "\n"
     ]
    }
   ],
   "source": [
    "print(classification_report(Y_test,pred))"
   ]
  },
  {
   "cell_type": "code",
   "execution_count": 67,
   "metadata": {},
   "outputs": [],
   "source": [
    "c=SVC(kernel='rbf')"
   ]
  },
  {
   "cell_type": "code",
   "execution_count": 68,
   "metadata": {},
   "outputs": [
    {
     "data": {
      "text/plain": [
       "SVC(C=1.0, cache_size=200, class_weight=None, coef0=0.0,\n",
       "  decision_function_shape='ovr', degree=3, gamma='auto', kernel='rbf',\n",
       "  max_iter=-1, probability=False, random_state=None, shrinking=True,\n",
       "  tol=0.001, verbose=False)"
      ]
     },
     "execution_count": 68,
     "metadata": {},
     "output_type": "execute_result"
    }
   ],
   "source": [
    "c.fit(X_train,Y_train)"
   ]
  },
  {
   "cell_type": "code",
   "execution_count": 69,
   "metadata": {},
   "outputs": [
    {
     "data": {
      "text/plain": [
       "array([2, 5, 5, 5, 0, 5, 0, 5, 2, 3, 5, 5, 5, 3, 5, 9, 1, 0, 5, 5, 5, 2,\n",
       "       5, 6, 1, 6, 5, 9, 5, 5, 5, 5, 5, 5, 5, 9, 0, 6, 5, 4, 5, 5, 2, 5,\n",
       "       5, 9, 5, 5, 0, 5, 5, 5, 0, 5, 5, 5, 0, 5, 5, 1, 5, 5, 5, 3, 6, 5,\n",
       "       5, 5, 5, 5, 5, 5, 5, 5, 0, 5, 5, 9, 5, 5, 6, 2, 0, 5, 5, 4, 5, 5,\n",
       "       5, 5, 5, 5, 5, 5, 5, 5, 5, 5, 9, 5, 5, 5, 5, 3, 5, 9, 5, 2, 5, 5,\n",
       "       9, 5, 5, 4, 9, 5, 5, 7, 5, 5, 5, 5, 5, 1, 5, 5, 5, 8, 1, 5, 5, 0,\n",
       "       5, 0, 5, 5, 5, 5, 6, 6, 7, 5, 7, 3, 2, 5, 5, 5, 2, 5, 5, 5, 7, 5,\n",
       "       5, 9, 5, 9, 5, 5, 5, 9, 5, 5, 3, 5, 5, 7, 5, 1, 5, 0, 5, 5, 5, 5,\n",
       "       6, 1, 0, 5, 5, 0, 5, 7, 5, 5, 5, 9, 5, 9, 4, 5, 5, 9, 5, 5, 1, 9,\n",
       "       5, 5, 5, 3, 5, 0, 9, 5, 4, 7, 5, 1, 5, 4, 7, 5, 5, 5, 9, 4, 5, 0,\n",
       "       5, 5, 5, 4, 5, 5, 2, 5, 7, 5, 5, 5, 5, 5, 5, 5, 5, 4, 9, 5, 5, 5,\n",
       "       5, 7, 1, 5, 5, 5, 5, 5, 5, 5, 3, 3, 5, 9, 5, 3, 7, 9, 5, 5, 5, 5,\n",
       "       5, 1, 5, 5, 9, 0, 5, 5, 5, 5, 5, 2, 9, 5, 2, 5, 5, 2, 5, 1, 4, 5,\n",
       "       5, 5, 7, 6, 5, 5, 5, 5, 5, 5, 5, 9, 5, 5, 5, 5, 0, 3, 5, 5, 5, 0,\n",
       "       6, 5, 5, 5, 1, 5, 1, 7, 5, 5, 1, 5, 5, 1, 5, 5, 7, 5, 9, 9, 5, 5,\n",
       "       5, 7, 5, 1, 0, 5, 5, 5, 9, 6, 6, 5, 5, 3, 5, 5, 5, 4, 5, 1, 5, 5,\n",
       "       5, 5, 5, 5, 7, 1, 4, 5, 5, 0, 5, 5, 6, 5, 2, 5, 5, 5, 3, 0, 5, 5,\n",
       "       5, 0, 6, 5, 6, 5, 5, 9, 5, 5, 7, 9, 1, 0, 5, 5, 5, 5, 1, 5, 9, 5,\n",
       "       5, 0, 5, 5, 5, 5, 2, 1, 2, 7, 5, 5, 8, 5, 5, 5, 5, 9, 5, 5, 6, 5,\n",
       "       5, 5, 9, 5, 4, 0, 9, 4, 5, 6, 5, 5, 1, 5, 5, 5, 5, 5, 5, 9, 5, 5,\n",
       "       5, 5, 9, 9, 5, 7, 9, 5, 9, 5, 5, 5, 9, 5, 5, 5, 8, 9, 3, 5, 6, 6,\n",
       "       5, 2, 5, 1, 5, 9, 5, 5, 5, 5, 5, 5, 5, 0, 9, 1, 5, 1, 5, 5, 6, 5,\n",
       "       5, 7, 1, 5, 5, 5, 7, 0, 5, 5, 3, 5, 5, 5, 5, 5, 6, 5, 5, 5, 5, 5,\n",
       "       5, 5, 5, 5, 5, 5, 4, 0, 5, 5, 6, 8, 5, 5, 5, 5, 5, 5, 9, 5, 5, 4,\n",
       "       5, 5, 5, 6, 5, 5, 5, 2, 5, 5, 3, 5])"
      ]
     },
     "execution_count": 69,
     "metadata": {},
     "output_type": "execute_result"
    }
   ],
   "source": [
    "pred2=c.predict(X_test)\n",
    "pred2"
   ]
  },
  {
   "cell_type": "code",
   "execution_count": 87,
   "metadata": {},
   "outputs": [
    {
     "name": "stdout",
     "output_type": "stream",
     "text": [
      "0.45\n"
     ]
    }
   ],
   "source": [
    "print(accuracy_score(Y_test,pred2))"
   ]
  },
  {
   "cell_type": "code",
   "execution_count": 71,
   "metadata": {},
   "outputs": [
    {
     "name": "stdout",
     "output_type": "stream",
     "text": [
      "[[29  0  0  0  0 29  0  0  0  0]\n",
      " [ 0 27  0  0  0 24  0  0  0  0]\n",
      " [ 0  0 17  0  0 31  0  0  0  0]\n",
      " [ 0  0  0 16  0 43  0  0  0  0]\n",
      " [ 0  0  0  0 16 48  0  0  0  0]\n",
      " [ 0  0  0  0  0 48  0  0  0  1]\n",
      " [ 0  0  0  0  0 41 23  0  0  0]\n",
      " [ 0  0  0  0  0 32  0 21  0  0]\n",
      " [ 0  0  0  0  0 43  0  0  4  0]\n",
      " [ 0  0  0  0  0  5  0  0  0 42]]\n"
     ]
    }
   ],
   "source": [
    "print(confusion_matrix(Y_test,pred2))"
   ]
  },
  {
   "cell_type": "code",
   "execution_count": 72,
   "metadata": {},
   "outputs": [
    {
     "name": "stdout",
     "output_type": "stream",
     "text": [
      "             precision    recall  f1-score   support\n",
      "\n",
      "          0       1.00      0.50      0.67        58\n",
      "          1       1.00      0.53      0.69        51\n",
      "          2       1.00      0.35      0.52        48\n",
      "          3       1.00      0.27      0.43        59\n",
      "          4       1.00      0.25      0.40        64\n",
      "          5       0.14      0.98      0.24        49\n",
      "          6       1.00      0.36      0.53        64\n",
      "          7       1.00      0.40      0.57        53\n",
      "          8       1.00      0.09      0.16        47\n",
      "          9       0.98      0.89      0.93        47\n",
      "\n",
      "avg / total       0.92      0.45      0.51       540\n",
      "\n"
     ]
    }
   ],
   "source": [
    "print(classification_report(Y_test,pred2))"
   ]
  },
  {
   "cell_type": "code",
   "execution_count": 73,
   "metadata": {},
   "outputs": [],
   "source": [
    "d=SVC(kernel='poly', C=0.9 ,gamma=0.7 )"
   ]
  },
  {
   "cell_type": "code",
   "execution_count": 74,
   "metadata": {},
   "outputs": [
    {
     "data": {
      "text/plain": [
       "SVC(C=0.9, cache_size=200, class_weight=None, coef0=0.0,\n",
       "  decision_function_shape='ovr', degree=3, gamma=0.7, kernel='poly',\n",
       "  max_iter=-1, probability=False, random_state=None, shrinking=True,\n",
       "  tol=0.001, verbose=False)"
      ]
     },
     "execution_count": 74,
     "metadata": {},
     "output_type": "execute_result"
    }
   ],
   "source": [
    "d.fit(X_train,Y_train)\n"
   ]
  },
  {
   "cell_type": "code",
   "execution_count": 75,
   "metadata": {},
   "outputs": [
    {
     "data": {
      "text/plain": [
       "array([2, 8, 2, 8, 0, 7, 0, 6, 2, 3, 9, 6, 2, 3, 5, 9, 1, 0, 3, 2, 4, 2,\n",
       "       8, 6, 1, 6, 6, 9, 3, 2, 6, 6, 3, 2, 7, 9, 0, 6, 0, 4, 5, 0, 2, 0,\n",
       "       7, 9, 7, 3, 0, 3, 6, 4, 0, 1, 3, 7, 0, 8, 4, 1, 3, 3, 1, 3, 6, 8,\n",
       "       5, 8, 0, 5, 3, 7, 2, 7, 0, 1, 5, 9, 4, 2, 6, 2, 0, 4, 1, 4, 0, 6,\n",
       "       3, 2, 4, 3, 6, 4, 4, 4, 6, 3, 9, 5, 5, 8, 5, 3, 4, 9, 1, 2, 9, 0,\n",
       "       9, 5, 8, 4, 9, 0, 5, 7, 5, 5, 6, 1, 7, 1, 2, 4, 6, 8, 1, 5, 3, 0,\n",
       "       3, 0, 5, 5, 5, 8, 6, 6, 7, 8, 7, 3, 2, 4, 0, 2, 2, 0, 2, 4, 7, 0,\n",
       "       3, 9, 6, 9, 8, 1, 8, 9, 7, 5, 3, 2, 6, 7, 6, 1, 4, 0, 6, 7, 8, 2,\n",
       "       6, 1, 0, 7, 6, 0, 8, 7, 4, 2, 6, 9, 5, 9, 4, 8, 6, 9, 0, 6, 1, 9,\n",
       "       1, 8, 7, 3, 4, 0, 9, 5, 4, 7, 3, 1, 5, 4, 7, 3, 0, 6, 9, 4, 1, 0,\n",
       "       1, 0, 8, 4, 1, 4, 2, 7, 7, 8, 5, 3, 4, 5, 5, 6, 7, 4, 9, 5, 3, 7,\n",
       "       4, 7, 1, 0, 8, 3, 2, 3, 8, 3, 3, 3, 1, 9, 2, 3, 7, 9, 4, 5, 6, 2,\n",
       "       8, 1, 8, 5, 9, 0, 7, 0, 5, 4, 6, 2, 9, 8, 2, 3, 2, 2, 3, 1, 4, 7,\n",
       "       6, 8, 7, 6, 6, 5, 1, 1, 7, 6, 3, 9, 7, 8, 3, 1, 0, 3, 7, 0, 3, 0,\n",
       "       6, 1, 2, 2, 1, 5, 1, 7, 0, 8, 1, 8, 7, 1, 3, 1, 7, 3, 9, 9, 6, 2,\n",
       "       4, 7, 1, 1, 0, 7, 4, 8, 9, 6, 6, 5, 3, 3, 2, 2, 3, 4, 0, 1, 1, 6,\n",
       "       4, 8, 6, 6, 7, 1, 4, 4, 5, 0, 7, 5, 6, 5, 2, 3, 7, 8, 3, 0, 2, 5,\n",
       "       8, 0, 6, 7, 6, 4, 6, 9, 7, 1, 7, 9, 1, 0, 5, 6, 8, 8, 1, 5, 9, 8,\n",
       "       8, 0, 5, 2, 5, 0, 2, 1, 2, 7, 4, 3, 8, 2, 5, 0, 4, 9, 7, 0, 6, 8,\n",
       "       3, 6, 9, 0, 4, 0, 9, 4, 0, 6, 5, 3, 1, 0, 4, 4, 6, 7, 4, 9, 8, 4,\n",
       "       6, 4, 9, 9, 1, 7, 9, 5, 9, 4, 9, 0, 9, 0, 7, 3, 8, 9, 3, 5, 6, 6,\n",
       "       4, 2, 7, 1, 1, 9, 4, 8, 5, 4, 7, 8, 3, 0, 9, 1, 6, 1, 4, 4, 6, 4,\n",
       "       4, 7, 1, 6, 8, 6, 7, 0, 0, 0, 3, 6, 4, 5, 8, 3, 6, 2, 5, 2, 4, 8,\n",
       "       0, 4, 4, 4, 3, 5, 4, 0, 4, 4, 6, 8, 8, 7, 7, 3, 1, 0, 9, 8, 5, 4,\n",
       "       5, 2, 1, 6, 6, 1, 2, 2, 5, 3, 3, 2])"
      ]
     },
     "execution_count": 75,
     "metadata": {},
     "output_type": "execute_result"
    }
   ],
   "source": [
    "pred3=d.predict(X_test)\n",
    "pred3"
   ]
  },
  {
   "cell_type": "code",
   "execution_count": 86,
   "metadata": {},
   "outputs": [
    {
     "name": "stdout",
     "output_type": "stream",
     "text": [
      "0.9833333333333333\n"
     ]
    }
   ],
   "source": [
    "print(accuracy_score(Y_test,pred3))"
   ]
  },
  {
   "cell_type": "code",
   "execution_count": 77,
   "metadata": {},
   "outputs": [
    {
     "name": "stdout",
     "output_type": "stream",
     "text": [
      "[[58  0  0  0  0  0  0  0  0  0]\n",
      " [ 0 51  0  0  0  0  0  0  0  0]\n",
      " [ 0  0 48  0  0  0  0  0  0  0]\n",
      " [ 0  0  0 57  0  0  0  0  2  0]\n",
      " [ 0  0  0  0 64  0  0  0  0  0]\n",
      " [ 0  0  0  0  0 47  0  0  0  2]\n",
      " [ 1  0  0  0  0  0 63  0  0  0]\n",
      " [ 0  0  0  0  0  0  0 53  0  0]\n",
      " [ 0  1  0  0  0  0  0  0 46  0]\n",
      " [ 0  0  0  0  0  2  0  1  0 44]]\n"
     ]
    }
   ],
   "source": [
    "print(confusion_matrix(Y_test,pred3))"
   ]
  },
  {
   "cell_type": "code",
   "execution_count": 78,
   "metadata": {},
   "outputs": [
    {
     "name": "stdout",
     "output_type": "stream",
     "text": [
      "             precision    recall  f1-score   support\n",
      "\n",
      "          0       0.98      1.00      0.99        58\n",
      "          1       0.98      1.00      0.99        51\n",
      "          2       1.00      1.00      1.00        48\n",
      "          3       1.00      0.97      0.98        59\n",
      "          4       1.00      1.00      1.00        64\n",
      "          5       0.96      0.96      0.96        49\n",
      "          6       1.00      0.98      0.99        64\n",
      "          7       0.98      1.00      0.99        53\n",
      "          8       0.96      0.98      0.97        47\n",
      "          9       0.96      0.94      0.95        47\n",
      "\n",
      "avg / total       0.98      0.98      0.98       540\n",
      "\n"
     ]
    }
   ],
   "source": [
    "print(classification_report(Y_test,pred3))"
   ]
  },
  {
   "cell_type": "code",
   "execution_count": 79,
   "metadata": {},
   "outputs": [],
   "source": [
    "e=SVC(kernel='sigmoid')"
   ]
  },
  {
   "cell_type": "code",
   "execution_count": 80,
   "metadata": {},
   "outputs": [
    {
     "data": {
      "text/plain": [
       "SVC(C=1.0, cache_size=200, class_weight=None, coef0=0.0,\n",
       "  decision_function_shape='ovr', degree=3, gamma='auto', kernel='sigmoid',\n",
       "  max_iter=-1, probability=False, random_state=None, shrinking=True,\n",
       "  tol=0.001, verbose=False)"
      ]
     },
     "execution_count": 80,
     "metadata": {},
     "output_type": "execute_result"
    }
   ],
   "source": [
    "e.fit(X_train,Y_train)"
   ]
  },
  {
   "cell_type": "code",
   "execution_count": 82,
   "metadata": {},
   "outputs": [
    {
     "data": {
      "text/plain": [
       "array([9, 9, 9, 9, 9, 9, 9, 9, 9, 9, 9, 9, 9, 9, 9, 9, 9, 9, 9, 9, 9, 9,\n",
       "       9, 9, 9, 9, 9, 9, 9, 9, 9, 9, 9, 9, 9, 9, 9, 9, 9, 9, 9, 9, 9, 9,\n",
       "       9, 9, 9, 9, 9, 9, 9, 9, 9, 9, 9, 9, 9, 9, 9, 9, 9, 9, 9, 9, 9, 9,\n",
       "       9, 9, 9, 9, 9, 9, 9, 9, 9, 9, 9, 9, 9, 9, 9, 9, 9, 9, 9, 9, 9, 9,\n",
       "       9, 9, 9, 9, 9, 9, 9, 9, 9, 9, 9, 9, 9, 9, 9, 9, 9, 9, 9, 9, 9, 9,\n",
       "       9, 9, 9, 9, 9, 9, 9, 9, 9, 9, 9, 9, 9, 9, 9, 9, 9, 9, 9, 9, 9, 9,\n",
       "       9, 9, 9, 9, 9, 9, 9, 9, 9, 9, 9, 9, 9, 9, 9, 9, 9, 9, 9, 9, 9, 9,\n",
       "       9, 9, 9, 9, 9, 9, 9, 9, 9, 9, 9, 9, 9, 9, 9, 9, 9, 9, 9, 9, 9, 9,\n",
       "       5, 9, 9, 9, 9, 9, 9, 9, 9, 9, 9, 9, 9, 9, 9, 9, 9, 9, 9, 9, 9, 9,\n",
       "       9, 9, 9, 9, 9, 9, 9, 9, 9, 9, 9, 9, 9, 9, 9, 9, 9, 9, 9, 9, 9, 9,\n",
       "       9, 9, 9, 9, 9, 9, 9, 9, 9, 9, 9, 9, 9, 9, 9, 9, 9, 9, 9, 9, 9, 9,\n",
       "       9, 9, 9, 9, 9, 9, 5, 9, 9, 9, 9, 9, 9, 9, 9, 9, 9, 9, 9, 9, 9, 9,\n",
       "       9, 9, 9, 9, 9, 9, 9, 9, 5, 9, 9, 9, 9, 9, 9, 9, 9, 9, 9, 9, 9, 9,\n",
       "       9, 9, 9, 9, 9, 9, 9, 9, 9, 9, 9, 9, 9, 9, 9, 9, 9, 9, 9, 9, 9, 9,\n",
       "       9, 9, 9, 9, 9, 9, 9, 9, 9, 9, 9, 9, 9, 9, 9, 9, 9, 9, 9, 9, 9, 9,\n",
       "       9, 9, 9, 9, 9, 9, 9, 9, 9, 5, 9, 9, 9, 9, 9, 9, 9, 9, 9, 9, 9, 9,\n",
       "       9, 9, 9, 9, 9, 9, 9, 9, 9, 9, 9, 9, 9, 9, 9, 9, 9, 9, 9, 9, 9, 9,\n",
       "       9, 9, 9, 9, 9, 9, 5, 9, 9, 9, 9, 9, 9, 9, 9, 9, 9, 9, 5, 9, 9, 9,\n",
       "       9, 9, 9, 9, 9, 9, 9, 9, 9, 9, 9, 9, 9, 9, 9, 9, 9, 9, 9, 9, 9, 9,\n",
       "       9, 9, 9, 9, 9, 9, 9, 9, 9, 9, 9, 9, 9, 9, 9, 9, 9, 9, 9, 9, 9, 9,\n",
       "       9, 9, 9, 9, 9, 9, 9, 9, 9, 9, 9, 9, 9, 9, 9, 9, 9, 9, 9, 9, 9, 9,\n",
       "       9, 9, 9, 9, 9, 9, 9, 9, 9, 9, 9, 9, 9, 9, 9, 9, 9, 9, 9, 9, 9, 9,\n",
       "       9, 9, 9, 9, 9, 9, 9, 9, 9, 9, 9, 9, 9, 9, 9, 9, 9, 9, 9, 9, 9, 9,\n",
       "       9, 9, 9, 9, 9, 9, 9, 9, 9, 9, 9, 9, 9, 9, 9, 9, 9, 9, 9, 9, 9, 9,\n",
       "       9, 9, 9, 9, 9, 9, 9, 9, 9, 9, 9, 9])"
      ]
     },
     "execution_count": 82,
     "metadata": {},
     "output_type": "execute_result"
    }
   ],
   "source": [
    "pred4=e.predict(X_test)\n",
    "pred4"
   ]
  },
  {
   "cell_type": "code",
   "execution_count": 83,
   "metadata": {},
   "outputs": [
    {
     "name": "stdout",
     "output_type": "stream",
     "text": [
      "0.08888888888888889\n"
     ]
    }
   ],
   "source": [
    "print(accuracy_score(Y_test,pred4))"
   ]
  },
  {
   "cell_type": "code",
   "execution_count": 84,
   "metadata": {},
   "outputs": [
    {
     "name": "stdout",
     "output_type": "stream",
     "text": [
      "[[ 0  0  0  0  0  0  0  0  0 58]\n",
      " [ 0  0  0  0  0  1  0  0  0 50]\n",
      " [ 0  0  0  0  0  1  0  0  0 47]\n",
      " [ 0  0  0  0  0  0  0  0  0 59]\n",
      " [ 0  0  0  0  0  0  0  0  0 64]\n",
      " [ 0  0  0  0  0  1  0  0  0 48]\n",
      " [ 0  0  0  0  0  3  0  0  0 61]\n",
      " [ 0  0  0  0  0  0  0  0  0 53]\n",
      " [ 0  0  0  0  0  0  0  0  0 47]\n",
      " [ 0  0  0  0  0  0  0  0  0 47]]\n"
     ]
    }
   ],
   "source": [
    "print(confusion_matrix(Y_test,pred4))"
   ]
  },
  {
   "cell_type": "code",
   "execution_count": 85,
   "metadata": {},
   "outputs": [
    {
     "name": "stdout",
     "output_type": "stream",
     "text": [
      "             precision    recall  f1-score   support\n",
      "\n",
      "          0       0.00      0.00      0.00        58\n",
      "          1       0.00      0.00      0.00        51\n",
      "          2       0.00      0.00      0.00        48\n",
      "          3       0.00      0.00      0.00        59\n",
      "          4       0.00      0.00      0.00        64\n",
      "          5       0.17      0.02      0.04        49\n",
      "          6       0.00      0.00      0.00        64\n",
      "          7       0.00      0.00      0.00        53\n",
      "          8       0.00      0.00      0.00        47\n",
      "          9       0.09      1.00      0.16        47\n",
      "\n",
      "avg / total       0.02      0.09      0.02       540\n",
      "\n"
     ]
    },
    {
     "name": "stderr",
     "output_type": "stream",
     "text": [
      "C:\\Users\\pawan\\Anaconda3\\lib\\site-packages\\sklearn\\metrics\\classification.py:1135: UndefinedMetricWarning: Precision and F-score are ill-defined and being set to 0.0 in labels with no predicted samples.\n",
      "  'precision', 'predicted', average, warn_for)\n"
     ]
    }
   ],
   "source": [
    "print(classification_report(Y_test,pred4))"
   ]
  },
  {
   "cell_type": "code",
   "execution_count": null,
   "metadata": {},
   "outputs": [],
   "source": []
  }
 ],
 "metadata": {
  "kernelspec": {
   "display_name": "Python 3",
   "language": "python",
   "name": "python3"
  },
  "language_info": {
   "codemirror_mode": {
    "name": "ipython",
    "version": 3
   },
   "file_extension": ".py",
   "mimetype": "text/x-python",
   "name": "python",
   "nbconvert_exporter": "python",
   "pygments_lexer": "ipython3",
   "version": "3.6.5"
  }
 },
 "nbformat": 4,
 "nbformat_minor": 2
}
