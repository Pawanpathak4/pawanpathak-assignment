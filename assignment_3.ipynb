
# coding: utf-8

# ## question 1

# In[2]:


def prob(a,b,c):
    return(c*b)/a


# In[3]:


prob(11/36,6/36,2/36)


# ## question 2

# In[4]:


# probablity of bag 1 = 1/2
a= 1/2
# probablity of bag 2 = 1/2
b = 1/2
# probablity of black from bag 1 = 6/10
aB = 6/10
# probablity of black from bag 2  = 3/7
bB = 3/7


# In[5]:


prob = (a*aB)/((a*aB))


# ## question 3

# In[6]:


# probablity of speaking truth p(a)=2/3
# probablity of getting six on dice p(s)=1/6


# In[14]:


a = 2/3
s = 1/6
lie = 1/3
nosix = 5/6
s = (a*s)/((a*s)+(lie*nosix))


# In[15]:


s

